{
 "cells": [
  {
   "cell_type": "code",
   "execution_count": 1,
   "metadata": {},
   "outputs": [],
   "source": [
    "import pandas as pd\n",
    "import math"
   ]
  },
  {
   "cell_type": "code",
   "execution_count": 2,
   "metadata": {},
   "outputs": [
    {
     "data": {
      "text/plain": [
       "Index(['Ad_ID', 'date', 'Body_Type', 'Condition', 'Engine_Capacity_CC',\n",
       "       'Kilometers', 'Model', 'Transmission_Type', 'Year', 'brand', 'price'],\n",
       "      dtype='object')"
      ]
     },
     "execution_count": 2,
     "metadata": {},
     "output_type": "execute_result"
    }
   ],
   "source": [
    "df = pd.read_csv(\"contact_cars2.csv\")\n",
    "df.drop(columns=\"Unnamed: 0\" ,inplace=True)\n",
    "cols = [\"Ad_ID\",\"date\", 'Body_Type', 'Condition', 'Engine_Capacity_CC',\n",
    "       'Kilometers', 'Model', 'Transmission_Type', 'Year', 'brand', 'price']\n",
    "\n",
    "df.columns = cols\n",
    "df.columns"
   ]
  },
  {
   "cell_type": "code",
   "execution_count": 3,
   "metadata": {},
   "outputs": [
    {
     "data": {
      "text/html": [
       "<div>\n",
       "<style scoped>\n",
       "    .dataframe tbody tr th:only-of-type {\n",
       "        vertical-align: middle;\n",
       "    }\n",
       "\n",
       "    .dataframe tbody tr th {\n",
       "        vertical-align: top;\n",
       "    }\n",
       "\n",
       "    .dataframe thead th {\n",
       "        text-align: right;\n",
       "    }\n",
       "</style>\n",
       "<table border=\"1\" class=\"dataframe\">\n",
       "  <thead>\n",
       "    <tr style=\"text-align: right;\">\n",
       "      <th></th>\n",
       "      <th>Ad_ID</th>\n",
       "      <th>date</th>\n",
       "      <th>Body_Type</th>\n",
       "      <th>Condition</th>\n",
       "      <th>Engine_Capacity_CC</th>\n",
       "      <th>Kilometers</th>\n",
       "      <th>Model</th>\n",
       "      <th>Transmission_Type</th>\n",
       "      <th>Year</th>\n",
       "      <th>brand</th>\n",
       "      <th>price</th>\n",
       "    </tr>\n",
       "  </thead>\n",
       "  <tbody>\n",
       "    <tr>\n",
       "      <th>0</th>\n",
       "      <td>6293b871645d177f18bc2ac6</td>\n",
       "      <td>29 May, 2022 - 8:16 PM</td>\n",
       "      <td>Sedan</td>\n",
       "      <td>Used</td>\n",
       "      <td>2900 cc</td>\n",
       "      <td>150,000 KM</td>\n",
       "      <td>523i</td>\n",
       "      <td>Automatic</td>\n",
       "      <td>2009</td>\n",
       "      <td>BMW</td>\n",
       "      <td>350,000</td>\n",
       "    </tr>\n",
       "  </tbody>\n",
       "</table>\n",
       "</div>"
      ],
      "text/plain": [
       "                      Ad_ID                    date Body_Type Condition  \\\n",
       "0  6293b871645d177f18bc2ac6  29 May, 2022 - 8:16 PM     Sedan      Used   \n",
       "\n",
       "  Engine_Capacity_CC  Kilometers Model Transmission_Type  Year brand    price  \n",
       "0            2900 cc  150,000 KM  523i         Automatic  2009   BMW  350,000  "
      ]
     },
     "execution_count": 3,
     "metadata": {},
     "output_type": "execute_result"
    }
   ],
   "source": [
    "df.head(1)"
   ]
  },
  {
   "cell_type": "code",
   "execution_count": 4,
   "metadata": {},
   "outputs": [
    {
     "data": {
      "text/plain": [
       "(2400, 11)"
      ]
     },
     "execution_count": 4,
     "metadata": {},
     "output_type": "execute_result"
    }
   ],
   "source": [
    "df = df[df[\"Transmission_Type\"].notna()]\n",
    "df.shape"
   ]
  },
  {
   "cell_type": "code",
   "execution_count": 5,
   "metadata": {},
   "outputs": [
    {
     "data": {
      "text/plain": [
       "(2400, 11)"
      ]
     },
     "execution_count": 5,
     "metadata": {},
     "output_type": "execute_result"
    }
   ],
   "source": [
    "df.dropna(how = \"all\", inplace = True)\n",
    "df = df[~df[\"Transmission_Type\"].str.contains(\" cc\") ]\n",
    "\n",
    "\n",
    "df.shape"
   ]
  },
  {
   "cell_type": "code",
   "execution_count": 6,
   "metadata": {},
   "outputs": [
    {
     "data": {
      "text/plain": [
       "array(['29 May, 2022 - 8:16 PM', '29 May, 2022 - 7:45 PM',\n",
       "       '28 May, 2022 - 8:10 PM', ..., '05 May, 2022 - 9:49 AM',\n",
       "       '05 May, 2022 - 9:25 AM', '05 May, 2022 - 9:16 AM'], dtype=object)"
      ]
     },
     "execution_count": 6,
     "metadata": {},
     "output_type": "execute_result"
    }
   ],
   "source": [
    "# df.loc[df[\"Color\"] == \"Factory Paint\",\"Color\"] = math.nan\n",
    "# df.loc[df[\"Color\"] == \"In\\xa0Warranty\",\"Color\"] = math.nan\n",
    "df[\"date\"].unique()"
   ]
  },
  {
   "cell_type": "code",
   "execution_count": 7,
   "metadata": {},
   "outputs": [
    {
     "data": {
      "text/html": [
       "<div>\n",
       "<style scoped>\n",
       "    .dataframe tbody tr th:only-of-type {\n",
       "        vertical-align: middle;\n",
       "    }\n",
       "\n",
       "    .dataframe tbody tr th {\n",
       "        vertical-align: top;\n",
       "    }\n",
       "\n",
       "    .dataframe thead th {\n",
       "        text-align: right;\n",
       "    }\n",
       "</style>\n",
       "<table border=\"1\" class=\"dataframe\">\n",
       "  <thead>\n",
       "    <tr style=\"text-align: right;\">\n",
       "      <th></th>\n",
       "      <th>Ad_ID</th>\n",
       "      <th>date</th>\n",
       "      <th>Body_Type</th>\n",
       "      <th>Condition</th>\n",
       "      <th>Engine_Capacity_CC</th>\n",
       "      <th>Kilometers</th>\n",
       "      <th>Model</th>\n",
       "      <th>Transmission_Type</th>\n",
       "      <th>Year</th>\n",
       "      <th>brand</th>\n",
       "      <th>price</th>\n",
       "    </tr>\n",
       "  </thead>\n",
       "  <tbody>\n",
       "    <tr>\n",
       "      <th>917</th>\n",
       "      <td>628e787163218178a4eb19e3</td>\n",
       "      <td>2022-05-25 20:41:00</td>\n",
       "      <td>Sedan</td>\n",
       "      <td>Used</td>\n",
       "      <td>1000 cc</td>\n",
       "      <td>10,000 KM</td>\n",
       "      <td>128 nova</td>\n",
       "      <td>Manual</td>\n",
       "      <td>1980</td>\n",
       "      <td>Fiat</td>\n",
       "      <td>17,000</td>\n",
       "    </tr>\n",
       "  </tbody>\n",
       "</table>\n",
       "</div>"
      ],
      "text/plain": [
       "                        Ad_ID                date Body_Type Condition  \\\n",
       "917  628e787163218178a4eb19e3 2022-05-25 20:41:00     Sedan      Used   \n",
       "\n",
       "    Engine_Capacity_CC Kilometers     Model Transmission_Type  Year brand  \\\n",
       "917            1000 cc  10,000 KM  128 nova            Manual  1980  Fiat   \n",
       "\n",
       "      price  \n",
       "917  17,000  "
      ]
     },
     "execution_count": 7,
     "metadata": {},
     "output_type": "execute_result"
    }
   ],
   "source": [
    "df[\"date\"] = pd.to_datetime(df[\"date\"])\n",
    "df.sample()"
   ]
  },
  {
   "cell_type": "code",
   "execution_count": 8,
   "metadata": {},
   "outputs": [
    {
     "data": {
      "text/plain": [
       "(7948, 11)"
      ]
     },
     "execution_count": 8,
     "metadata": {},
     "output_type": "execute_result"
    }
   ],
   "source": [
    "qu = \"SELECT * FROM `used-eg-cars-dataset.main_dataset.raw_contactCars_data_table`  \"\n",
    "\n",
    "old_df = pd.read_gbq(query=qu,project_id=\"used-eg-cars-dataset\")\n",
    "\n",
    "old_df.shape"
   ]
  },
  {
   "cell_type": "code",
   "execution_count": 9,
   "metadata": {},
   "outputs": [
    {
     "data": {
      "text/plain": [
       "(7948, 11)"
      ]
     },
     "execution_count": 9,
     "metadata": {},
     "output_type": "execute_result"
    }
   ],
   "source": [
    "df_final = pd.concat([old_df, df]).drop_duplicates(keep =\"last\", subset= [\"Ad_ID\"])\n",
    "\n",
    "df_final.shape"
   ]
  },
  {
   "cell_type": "code",
   "execution_count": 10,
   "metadata": {},
   "outputs": [
    {
     "name": "stderr",
     "output_type": "stream",
     "text": [
      "1it [00:09,  9.08s/it]\n"
     ]
    }
   ],
   "source": [
    "df_final.to_gbq(destination_table=\"main_dataset.raw_contactCars_data_table\" ,project_id=\"used-eg-cars-dataset\", if_exists=\"replace\")"
   ]
  },
  {
   "cell_type": "code",
   "execution_count": 11,
   "metadata": {},
   "outputs": [],
   "source": [
    "df_final.to_csv(\"semi_cleaned_contactcars.csv\")"
   ]
  },
  {
   "cell_type": "code",
   "execution_count": 12,
   "metadata": {},
   "outputs": [
    {
     "data": {
      "text/plain": [
       "(7948, 11)"
      ]
     },
     "execution_count": 12,
     "metadata": {},
     "output_type": "execute_result"
    }
   ],
   "source": [
    "df_final.shape"
   ]
  },
  {
   "cell_type": "code",
   "execution_count": null,
   "metadata": {},
   "outputs": [],
   "source": []
  },
  {
   "cell_type": "code",
   "execution_count": null,
   "metadata": {},
   "outputs": [],
   "source": []
  },
  {
   "cell_type": "code",
   "execution_count": null,
   "metadata": {},
   "outputs": [],
   "source": []
  },
  {
   "cell_type": "code",
   "execution_count": null,
   "metadata": {},
   "outputs": [],
   "source": [
    "\n"
   ]
  },
  {
   "cell_type": "code",
   "execution_count": null,
   "metadata": {},
   "outputs": [],
   "source": []
  },
  {
   "cell_type": "code",
   "execution_count": null,
   "metadata": {},
   "outputs": [],
   "source": []
  },
  {
   "cell_type": "code",
   "execution_count": null,
   "metadata": {},
   "outputs": [],
   "source": []
  }
 ],
 "metadata": {
  "kernelspec": {
   "display_name": "Python 3",
   "language": "python",
   "name": "python3"
  },
  "language_info": {
   "codemirror_mode": {
    "name": "ipython",
    "version": 3
   },
   "file_extension": ".py",
   "mimetype": "text/x-python",
   "name": "python",
   "nbconvert_exporter": "python",
   "pygments_lexer": "ipython3",
   "version": "3.7.4"
  }
 },
 "nbformat": 4,
 "nbformat_minor": 2
}
