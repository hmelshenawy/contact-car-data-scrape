{
 "cells": [
  {
   "cell_type": "code",
   "execution_count": 4,
   "metadata": {},
   "outputs": [],
   "source": [
    "from bs4 import BeautifulSoup as bs\n",
    "import requests\n",
    "import re\n",
    "import pandas as pd\n",
    "from time import sleep\n",
    "\n",
    "from selenium.webdriver.common.by import By\n",
    "\n",
    "import http.client  # or http.client if you're on Python 3\n",
    "http.client._MAXHEADERS = 10000\n",
    "\n",
    "import warnings \n",
    "warnings.filterwarnings(action= 'ignore')"
   ]
  },
  {
   "cell_type": "code",
   "execution_count": 2,
   "metadata": {},
   "outputs": [],
   "source": [
    "from selenium import webdriver\n",
    "\n",
    "main_link = \"https://www.contactcars.com/en/cars/used/engines?page=1&sortOrder=false&sortBy=CreatedAt\"\n",
    "\n",
    "chrome = webdriver.Chrome(executable_path=\"/Users/haitham/Downloads/chromedriver_mac64/chromedriver\")\n",
    "\n",
    "\n",
    "chrome.get(\"https://www.contactcars.com/en/cars/used/engines?page=4&sortOrder=false&sortBy=CreatedAt\")"
   ]
  },
  {
   "cell_type": "code",
   "execution_count": 7,
   "metadata": {},
   "outputs": [
    {
     "data": {
      "text/plain": [
       "'https://www.contactcars.com/en/car/06701e9061c042b48b9ca73317c5ee79-Mercedes-EQS?status=Used'"
      ]
     },
     "execution_count": 7,
     "metadata": {},
     "output_type": "execute_result"
    }
   ],
   "source": [
    "chrome.find_elements(by= By.CLASS_NAME,value=\"car-link\")[1].get_attribute(\"href\")\n",
    "\n",
    "# chrome.find_elements(by= By.CLASS_NAME,value=\"car-link\")"
   ]
  },
  {
   "cell_type": "code",
   "execution_count": null,
   "metadata": {},
   "outputs": [],
   "source": [
    "chrome.get(\"https://www.contactcars.com/en/car/63c00aa8f030183af4996bec-Chevrolet-Optra-1.5-A-T-H-L?status=Used\")"
   ]
  },
  {
   "cell_type": "code",
   "execution_count": null,
   "metadata": {},
   "outputs": [],
   "source": [
    "el = chrome.find_elements_by_class_name(\"detail-cards\")[-1]"
   ]
  },
  {
   "cell_type": "code",
   "execution_count": 6,
   "metadata": {},
   "outputs": [
    {
     "data": {
      "text/plain": [
       "[<selenium.webdriver.remote.webelement.WebElement (session=\"9efb0ac2d50ae66692d9f99ca47ea893\", element=\"15d0ad0f-4bd6-4446-ba8a-6ba83e84a688\")>,\n",
       " <selenium.webdriver.remote.webelement.WebElement (session=\"9efb0ac2d50ae66692d9f99ca47ea893\", element=\"f94f812c-8555-4975-94c7-8ed610efe771\")>,\n",
       " <selenium.webdriver.remote.webelement.WebElement (session=\"9efb0ac2d50ae66692d9f99ca47ea893\", element=\"9d80f703-65be-47e6-a8c8-09021d7253c2\")>,\n",
       " <selenium.webdriver.remote.webelement.WebElement (session=\"9efb0ac2d50ae66692d9f99ca47ea893\", element=\"66cc47dd-2aac-44be-8a13-559c49e35a3a\")>]"
      ]
     },
     "execution_count": 6,
     "metadata": {},
     "output_type": "execute_result"
    }
   ],
   "source": [
    "el.find_elements_by_class_name(\"info\")\n"
   ]
  },
  {
   "cell_type": "code",
   "execution_count": 7,
   "metadata": {},
   "outputs": [
    {
     "data": {
      "text/plain": [
       "['Chevrolet',\n",
       " 'Optra',\n",
       " '2021',\n",
       " 'Used',\n",
       " 'El Daher',\n",
       " '،',\n",
       " 'Cairo',\n",
       " '29 days ago',\n",
       " '375,000 EGP']"
      ]
     },
     "execution_count": 7,
     "metadata": {},
     "output_type": "execute_result"
    }
   ],
   "source": [
    "s = chrome.find_elements_by_class_name(\"used-car\")[-1].text.split(\"\\n\")\n",
    "s"
   ]
  },
  {
   "cell_type": "code",
   "execution_count": null,
   "metadata": {},
   "outputs": [],
   "source": []
  },
  {
   "cell_type": "code",
   "execution_count": 8,
   "metadata": {},
   "outputs": [],
   "source": [
    "li = ['SUV','Body Shape','Automatic','Transmission','3,500 KM' \\\n",
    ",'Mileage','Green','Color','1200 CC','Engine Capacity','Yes','Fabrica?']\n",
    "\n",
    "li2 = ['SUV','Body Shape','Automatic','Transmission','3,500 KM' \\\n",
    ",'Mileage','1200 CC','Engine Capacity','Yes','Fabrica?']\n",
    "\n",
    "li3 = ['SUV','Body Shape','Automatic','Transmission','3,500 KM' \\\n",
    ",'Mileage','1200 CC','Engine Capacity']"
   ]
  },
  {
   "cell_type": "code",
   "execution_count": 9,
   "metadata": {},
   "outputs": [
    {
     "data": {
      "text/plain": [
       "{'Body Shape': 'SUV',\n",
       " 'Transmission': 'Automatic',\n",
       " 'Mileage': '3,500 KM',\n",
       " 'Color': 'Green',\n",
       " 'Engine Capacity': '1200 CC',\n",
       " 'Fabrica?': 'Yes'}"
      ]
     },
     "execution_count": 9,
     "metadata": {},
     "output_type": "execute_result"
    }
   ],
   "source": [
    "def extract_details(mlist):\n",
    "\n",
    "    mdic = {}\n",
    "    i = 0\n",
    "    while i < len(mlist):\n",
    "        if (i % 2) == 0:\n",
    "            mdic[mlist[i+1]] = mlist[i]\n",
    "        i+=1\n",
    "        \n",
    "    return mdic\n",
    "    \n",
    "    \n",
    "extract_details(li)"
   ]
  },
  {
   "cell_type": "code",
   "execution_count": 10,
   "metadata": {},
   "outputs": [
    {
     "data": {
      "text/plain": [
       "{'id': 'df',\n",
       " 'Body Shape': 'SUV',\n",
       " 'Transmission': 'Automatic',\n",
       " 'Mileage': '3,500 KM',\n",
       " 'Color': 'Green',\n",
       " 'Engine Capacity': '1200 CC',\n",
       " 'Fabrica?': 'Yes'}"
      ]
     },
     "execution_count": 10,
     "metadata": {},
     "output_type": "execute_result"
    }
   ],
   "source": [
    "car = {\"id\": \"df\"}\n",
    "\n",
    "car.update(extract_details(li))\n",
    "\n",
    "car"
   ]
  },
  {
   "cell_type": "code",
   "execution_count": null,
   "metadata": {},
   "outputs": [],
   "source": []
  }
 ],
 "metadata": {
  "kernelspec": {
   "display_name": "Python 3 (ipykernel)",
   "language": "python",
   "name": "python3"
  },
  "language_info": {
   "codemirror_mode": {
    "name": "ipython",
    "version": 3
   },
   "file_extension": ".py",
   "mimetype": "text/x-python",
   "name": "python",
   "nbconvert_exporter": "python",
   "pygments_lexer": "ipython3",
   "version": "3.9.13"
  }
 },
 "nbformat": 4,
 "nbformat_minor": 2
}
