{
 "cells": [
  {
   "cell_type": "code",
   "execution_count": 13,
   "metadata": {},
   "outputs": [],
   "source": [
    "from bs4 import BeautifulSoup as bs\n",
    "import requests\n",
    "import re\n",
    "import pandas as pd\n",
    "from time import sleep\n",
    "\n",
    "import http.client  # or http.client if you're on Python 3\n",
    "http.client._MAXHEADERS = 10000\n",
    "\n",
    "import warnings \n",
    "warnings.filterwarnings(action= 'ignore')"
   ]
  },
  {
   "cell_type": "markdown",
   "metadata": {},
   "source": [
    "# Test"
   ]
  },
  {
   "cell_type": "code",
   "execution_count": 26,
   "metadata": {
    "scrolled": true
   },
   "outputs": [],
   "source": [
    "from selenium import webdriver\n",
    "\n",
    "main_link = \"https://www.contactcars.com/en/cars/used/engines?page=1&sortOrder=false&sortBy=CreatedAt\"\n",
    "\n",
    "chrome = webdriver.Chrome(executable_path=\"/Users/haitham/Downloads/chromedriver_mac64 (1)/chromedriver\")\n",
    "\n"
   ]
  },
  {
   "cell_type": "code",
   "execution_count": 27,
   "metadata": {},
   "outputs": [],
   "source": [
    "def get_links_list(link, driver):\n",
    "    \n",
    "    driver.get(link)\n",
    "    scroll_down(driver)\n",
    "#     z = chrome.find_elements_by_css_selector(\"d-block bg--white car-link\")\n",
    "    z = chrome.find_elements_by_class_name(\"car-link\")\n",
    "\n",
    "    lnk_list = []\n",
    "\n",
    "    for i in z:\n",
    "#         print(i.get_attribute(\"href\"))\n",
    "        lnk_list.append(i.get_attribute(\"href\"))\n",
    "\n",
    "    return lnk_list\n",
    "\n",
    "\n",
    "\n",
    "def scroll_down(driver):\n",
    "    import time\n",
    "    SCROLL_PAUSE_TIME = 1.7\n",
    "\n",
    "# Get scroll height\n",
    "    last_height = driver.execute_script(\"return document.body.scrollHeight\")\n",
    "\n",
    "    while True:\n",
    "        # Scroll down to bottom\n",
    "        driver.execute_script(\"window.scrollTo(0, document.body.scrollHeight);\")\n",
    "\n",
    "        # Wait to load page\n",
    "        time.sleep(SCROLL_PAUSE_TIME)\n",
    "\n",
    "        # Calculate new scroll height and compare with last scroll height\n",
    "        new_height = driver.execute_script(\"return document.body.scrollHeight\")\n",
    "        if new_height == last_height:\n",
    "            break\n",
    "        last_height = new_height\n",
    "\n",
    "\n",
    "\n",
    "def get_ad_details(l):\n",
    "\n",
    "    car_dict = {}\n",
    "# l = \"https://www.contactcars.com/en/car/626997664f4dc4c0a1d6a69f-Chevrolet-Optra-1.5-A-T-H-L?status=Used\"\n",
    "    chrome.get(l)\n",
    "\n",
    "\n",
    "    # car_details var list of WEBELEMENT include \n",
    "#     ['SUV','Body Shape','Automatic','Transmission','3,500 KM'\n",
    "# ,'Mileage','Green','Color','1200 CC','Engine Capacity','Yes','Fabrica?']\n",
    "\n",
    "    car_details = chrome.find_elements_by_class_name(\"detail-cards\")[-1].text.split(\"\\n\")\n",
    "#     print(car_details)\n",
    "    # car_info var like ['Opel', 'Mokka', '2022', 'Used', 'Egypt', '9 days ago', '855,000 EGP']\n",
    "    car_info = chrome.find_elements_by_class_name(\"used-car\")[-1].text.split(\"\\n\")\n",
    "#     print(car_info)\n",
    "\n",
    "    \n",
    "    print(l.split(\"car/\")[-1].split(\"-\")[0])\n",
    "    car_dict[\"Ad_ID\"]= l.split(\"car/\")[-1].split(\"-\")[0]\n",
    "    \n",
    "    car_dict.update(extract_details(car_details))\n",
    "    \n",
    "#     car_dict[\"Body Type\"] = car_details[0]\n",
    "#     car_dict[\"Engine Capacity (CC)\"] = car_details[8]\n",
    "#     car_dict[\"Transmission Type\"] = car_details[2]\n",
    "#     car_dict[\"Kilometers\"] = car_details[4]\n",
    "#     car_dict[\"Factory Paint\"] = car_details[10]\n",
    "\n",
    "    car_dict[\"Condition\"] = car_info[3]\n",
    "    car_dict[\"Year\"] = car_info[2]\n",
    "    car_dict[\"brand\"] = car_info[0]\n",
    "    car_dict[\"Model\"] = car_info[1]\n",
    "    car_dict[\"date\"] =  car_info[-2]\n",
    "    car_dict[\"price\"] = car_info[-1]\n",
    "    \n",
    "    print(car_dict)\n",
    "\n",
    "    return car_dict\n",
    "\n",
    "\n",
    "def get_page_link(nu):\n",
    "    ma =\"https://www.contactcars.com/en/cars/used/engines?page=\"\n",
    "    ink = \"&sortOrder=false&sortBy=CreatedAt\"\n",
    "    return ma+ str(nu) + ink\n",
    "\n",
    "def get_brand_model(string):\n",
    "\n",
    "    import math\n",
    "    s = string.split(\" \")[0:-1]\n",
    "\n",
    "    model = \" \".join( s[math.floor(len(s)/2) :])\n",
    "    brand = \" \".join( s[: math.floor(len(s)/2)])\n",
    "#     print(brand, \"\\n\", model,\"\\n_______\")\n",
    "    return brand, model\n",
    "\n",
    "def isFabrika(webElementList):\n",
    "    fabrika = False\n",
    "    for i in webElementList:\n",
    "        if i.text == 'Factory Paint':\n",
    "#             print(\"Fabrika\")\n",
    "            fabrika= True\n",
    "        else:\n",
    "            fabrika= False\n",
    "    return fabrika\n",
    "\n",
    "\n",
    "def extract_details(mlist):\n",
    "\n",
    "    mdic = {}\n",
    "    i = 0\n",
    "    while i < len(mlist):\n",
    "        if (i % 2) == 0:\n",
    "            mdic[mlist[i+1]] = mlist[i]\n",
    "        i+=1\n",
    "        \n",
    "    return mdic"
   ]
  },
  {
   "cell_type": "code",
   "execution_count": 28,
   "metadata": {},
   "outputs": [
    {
     "name": "stdout",
     "output_type": "stream",
     "text": [
      "____________________\n",
      "https://www.contactcars.com/en/car/60076f276f6941e2a5b9f9543be5d289-Opel-Mokka-1.2-A-T-Turbo-Elegance?status=Used\n",
      "60076f276f6941e2a5b9f9543be5d289\n",
      "{'Ad_ID': '60076f276f6941e2a5b9f9543be5d289', 'Body Shape': 'SUV', 'Transmission': 'Automatic', 'Mileage': '3,500 KM', 'Color': 'Green', 'Engine Capacity': '1200 CC', 'Fabrica?': 'Yes', 'Condition': 'Used', 'Year': '2022', 'brand': 'Opel', 'Model': 'Mokka', 'date': '9 days ago', 'price': '855,000 EGP'}\n",
      "____________________\n",
      "https://www.contactcars.com/en/car/6dad670bba644b25b94a1ff53cdd8a3d-Cupra--Formentor?status=Used\n",
      "6dad670bba644b25b94a1ff53cdd8a3d\n",
      "{'Ad_ID': '6dad670bba644b25b94a1ff53cdd8a3d', 'Body Shape': 'Hatchback', 'Transmission': 'Automatic', 'Mileage': '100 KM', 'Engine Capacity': '1200 CC', 'Condition': 'Used', 'Year': '2023', 'brand': 'Cupra', 'Model': 'Formentor', 'date': '10 days ago', 'price': '1,400,000 EGP'}\n",
      "____________________\n",
      "https://www.contactcars.com/en/car/1919801aa3b34bdbb3cfd63d4fad7084-BMW-X1-1.5-A-T-sDrive18i-M-Sport?status=Used\n",
      "1919801aa3b34bdbb3cfd63d4fad7084\n",
      "{'Ad_ID': '1919801aa3b34bdbb3cfd63d4fad7084', 'Body Shape': 'SUV', 'Transmission': 'Automatic', 'Mileage': '100 KM', 'Engine Capacity': '1500 CC', 'Condition': 'Used', 'Year': '2023', 'brand': 'BMW', 'Model': 'X1', 'date': '13 days ago', 'price': '1,700,000 EGP'}\n",
      "____________________\n",
      "https://www.contactcars.com/en/car/bc04b855fd2747d1abddc66187041c05-Opel-Astra-1.4-A-T-H-L-Turbo?status=Used\n",
      "bc04b855fd2747d1abddc66187041c05\n",
      "{'Ad_ID': 'bc04b855fd2747d1abddc66187041c05', 'Body Shape': 'Sedan', 'Transmission': 'Automatic', 'Mileage': '22,500 KM', 'Color': 'Red', 'Engine Capacity': '1400 CC', 'Fabrica?': 'Yes', 'Condition': 'Used', 'Year': '2021', 'brand': 'Opel', 'Model': 'Astra', 'date': '15 days ago', 'price': '171,000 EGP'}\n",
      "____________________\n",
      "https://www.contactcars.com/en/car/11cb79f7b2064bfd85219bc039aae243-MG-6-1.5-A-T-Turbo-Luxury-Black-interior-?status=Used\n",
      "11cb79f7b2064bfd85219bc039aae243\n",
      "{'Ad_ID': '11cb79f7b2064bfd85219bc039aae243', 'Body Shape': 'Sedan', 'Transmission': 'Automatic', 'Mileage': '12,000 KM', 'Color': 'Black', 'Engine Capacity': '1500 CC', 'Fabrica?': 'Yes', 'Condition': 'Used', 'Year': '2021', 'brand': 'MG', 'Model': '6', 'date': '15 days ago', 'price': '195,000 EGP'}\n",
      "____________________\n",
      "https://www.contactcars.com/en/car/b87ab56735204f1dbdad6d909c0f85a5-Renault-Sandero-1.6-A-T-Dynamic?status=Used\n",
      "inside exption\n",
      "{'Ad_ID': '11cb79f7b2064bfd85219bc039aae243', 'Body Shape': 'Sedan', 'Transmission': 'Automatic', 'Mileage': '12,000 KM', 'Color': 'Black', 'Engine Capacity': '1500 CC', 'Fabrica?': 'Yes', 'Condition': 'Used', 'Year': '2021', 'brand': 'MG', 'Model': '6', 'date': '15 days ago', 'price': '195,000 EGP'}\n",
      "Message: timeout: Timed out receiving message from renderer: -307.806\n",
      "  (Session info: chrome=110.0.5481.77)\n",
      "Stacktrace:\n",
      "0   chromedriver                        0x00000001072bc138 chromedriver + 4923704\n",
      "1   chromedriver                        0x00000001072349d3 chromedriver + 4368851\n",
      "2   chromedriver                        0x0000000106e7d787 chromedriver + 472967\n",
      "3   chromedriver                        0x0000000106e65ce5 chromedriver + 376037\n",
      "4   chromedriver                        0x0000000106e6587b chromedriver + 374907\n",
      "5   chromedriver                        0x0000000106e640c6 chromedriver + 368838\n",
      "6   chromedriver                        0x0000000106e645ec chromedriver + 370156\n",
      "7   chromedriver                        0x0000000106e734fc chromedriver + 431356\n",
      "8   chromedriver                        0x0000000106e74802 chromedriver + 436226\n",
      "9   chromedriver                        0x0000000106e86439 chromedriver + 508985\n",
      "10  chromedriver                        0x0000000106e8bc0a chromedriver + 531466\n",
      "11  chromedriver                        0x0000000106e64a42 chromedriver + 371266\n",
      "12  chromedriver                        0x0000000106e86281 chromedriver + 508545\n",
      "13  chromedriver                        0x0000000106f05e5f chromedriver + 1031775\n",
      "14  chromedriver                        0x0000000106eead23 chromedriver + 920867\n",
      "15  chromedriver                        0x0000000106eb1a4b chromedriver + 686667\n",
      "16  chromedriver                        0x0000000106eb3044 chromedriver + 692292\n",
      "17  chromedriver                        0x00000001072878fe chromedriver + 4708606\n",
      "18  chromedriver                        0x000000010728ce22 chromedriver + 4730402\n",
      "19  chromedriver                        0x00000001072956bf chromedriver + 4765375\n",
      "20  chromedriver                        0x000000010728de80 chromedriver + 4734592\n",
      "21  chromedriver                        0x000000010725e975 chromedriver + 4540789\n",
      "22  chromedriver                        0x00000001072afe78 chromedriver + 4873848\n",
      "23  chromedriver                        0x00000001072afff5 chromedriver + 4874229\n",
      "24  chromedriver                        0x00000001072c46de chromedriver + 4957918\n",
      "25  libsystem_pthread.dylib             0x00007fff76e7d2eb _pthread_body + 126\n",
      "26  libsystem_pthread.dylib             0x00007fff76e80249 _pthread_start + 66\n",
      "27  libsystem_pthread.dylib             0x00007fff76e7c40d thread_start + 13\n",
      "\n",
      "____________________\n",
      "https://www.contactcars.com/en/car/79a04663b35047dca60ebac34c0fa271-BMW-440i-Gran-Coupe-3.0-A-T-Sport?status=Used\n",
      "79a04663b35047dca60ebac34c0fa271\n",
      "{'Ad_ID': '79a04663b35047dca60ebac34c0fa271', 'Body Shape': 'Sedan', 'Transmission': 'Dual Clutch', 'Mileage': '10 KM', 'Color': 'Gray', 'Engine Capacity': '3000 CC', 'Fabrica?': 'Yes', 'Condition': 'Used', 'Year': '2022', 'brand': 'BMW', 'Model': '440i Gran Coupe', 'date': '3 days ago', 'price': '1,100,000 EGP'}\n",
      "____________________\n",
      "https://www.contactcars.com/en/car/ab3aab6455bb4ea59dc848bcd64b820b-Mercedes-GLC-43-3.0-A-T-AMG-Coupe?status=Used\n",
      "inside exption\n",
      "{'Ad_ID': '79a04663b35047dca60ebac34c0fa271', 'Body Shape': 'Sedan', 'Transmission': 'Dual Clutch', 'Mileage': '10 KM', 'Color': 'Gray', 'Engine Capacity': '3000 CC', 'Fabrica?': 'Yes', 'Condition': 'Used', 'Year': '2022', 'brand': 'BMW', 'Model': '440i Gran Coupe', 'date': '3 days ago', 'price': '1,100,000 EGP'}\n",
      "Message: timeout: Timed out receiving message from renderer: -894.821\n",
      "  (Session info: chrome=110.0.5481.77)\n",
      "Stacktrace:\n",
      "0   chromedriver                        0x00000001072bc138 chromedriver + 4923704\n",
      "1   chromedriver                        0x00000001072349d3 chromedriver + 4368851\n",
      "2   chromedriver                        0x0000000106e7d787 chromedriver + 472967\n",
      "3   chromedriver                        0x0000000106e65ce5 chromedriver + 376037\n",
      "4   chromedriver                        0x0000000106e6587b chromedriver + 374907\n",
      "5   chromedriver                        0x0000000106e640c6 chromedriver + 368838\n",
      "6   chromedriver                        0x0000000106e645ec chromedriver + 370156\n",
      "7   chromedriver                        0x0000000106e734fc chromedriver + 431356\n",
      "8   chromedriver                        0x0000000106e74802 chromedriver + 436226\n",
      "9   chromedriver                        0x0000000106e86439 chromedriver + 508985\n",
      "10  chromedriver                        0x0000000106e8bc0a chromedriver + 531466\n",
      "11  chromedriver                        0x0000000106e64a42 chromedriver + 371266\n",
      "12  chromedriver                        0x0000000106e86281 chromedriver + 508545\n",
      "13  chromedriver                        0x0000000106f05e5f chromedriver + 1031775\n",
      "14  chromedriver                        0x0000000106eead23 chromedriver + 920867\n",
      "15  chromedriver                        0x0000000106eb1a4b chromedriver + 686667\n",
      "16  chromedriver                        0x0000000106eb3044 chromedriver + 692292\n",
      "17  chromedriver                        0x00000001072878fe chromedriver + 4708606\n",
      "18  chromedriver                        0x000000010728ce22 chromedriver + 4730402\n",
      "19  chromedriver                        0x00000001072956bf chromedriver + 4765375\n",
      "20  chromedriver                        0x000000010728de80 chromedriver + 4734592\n",
      "21  chromedriver                        0x000000010725e975 chromedriver + 4540789\n",
      "22  chromedriver                        0x00000001072afe78 chromedriver + 4873848\n",
      "23  chromedriver                        0x00000001072afff5 chromedriver + 4874229\n",
      "24  chromedriver                        0x00000001072c46de chromedriver + 4957918\n",
      "25  libsystem_pthread.dylib             0x00007fff76e7d2eb _pthread_body + 126\n",
      "26  libsystem_pthread.dylib             0x00007fff76e80249 _pthread_start + 66\n",
      "27  libsystem_pthread.dylib             0x00007fff76e7c40d thread_start + 13\n",
      "\n",
      "____________________\n",
      "https://www.contactcars.com/en/car/22df858a7da249fbad799ba297a33b3d-BMW-M8--4.4-A-T-?status=Used\n"
     ]
    },
    {
     "name": "stdout",
     "output_type": "stream",
     "text": [
      "22df858a7da249fbad799ba297a33b3d\n",
      "{'Ad_ID': '22df858a7da249fbad799ba297a33b3d', 'Body Shape': 'Sedan', 'Transmission': 'Automatic', 'Mileage': '10 KM', 'Color': 'Maroon', 'Engine Capacity': '4400 CC', 'Fabrica?': 'Yes', 'Condition': 'Used', 'Year': '2022', 'brand': 'BMW', 'Model': 'M8', 'date': '5 days ago', 'price': '3,000,000 EGP'}\n",
      "____________________\n",
      "https://www.contactcars.com/en/car/5db746062e2e4a049db5e1ff40e04878-BMW-430i-Coupe-2.0-A-T?status=Used\n"
     ]
    },
    {
     "ename": "KeyboardInterrupt",
     "evalue": "",
     "output_type": "error",
     "traceback": [
      "\u001b[0;31m---------------------------------------------------------------------------\u001b[0m",
      "\u001b[0;31mKeyboardInterrupt\u001b[0m                         Traceback (most recent call last)",
      "\u001b[0;32m<ipython-input-28-ba6b74846201>\u001b[0m in \u001b[0;36m<module>\u001b[0;34m\u001b[0m\n\u001b[1;32m     13\u001b[0m                 \u001b[0mprint\u001b[0m\u001b[0;34m(\u001b[0m\u001b[0mlink\u001b[0m\u001b[0;34m)\u001b[0m\u001b[0;34m\u001b[0m\u001b[0;34m\u001b[0m\u001b[0m\n\u001b[1;32m     14\u001b[0m \u001b[0;34m\u001b[0m\u001b[0m\n\u001b[0;32m---> 15\u001b[0;31m                 \u001b[0mcar_dict\u001b[0m \u001b[0;34m=\u001b[0m \u001b[0mget_ad_details\u001b[0m\u001b[0;34m(\u001b[0m\u001b[0mlink\u001b[0m\u001b[0;34m)\u001b[0m\u001b[0;34m\u001b[0m\u001b[0;34m\u001b[0m\u001b[0m\n\u001b[0m\u001b[1;32m     16\u001b[0m \u001b[0;34m\u001b[0m\u001b[0m\n\u001b[1;32m     17\u001b[0m                 \u001b[0mdf\u001b[0m \u001b[0;34m=\u001b[0m \u001b[0mdf\u001b[0m\u001b[0;34m.\u001b[0m\u001b[0mappend\u001b[0m\u001b[0;34m(\u001b[0m\u001b[0mcar_dict\u001b[0m\u001b[0;34m,\u001b[0m \u001b[0mignore_index\u001b[0m \u001b[0;34m=\u001b[0m \u001b[0;32mTrue\u001b[0m\u001b[0;34m)\u001b[0m\u001b[0;34m\u001b[0m\u001b[0;34m\u001b[0m\u001b[0m\n",
      "\u001b[0;32m<ipython-input-27-37373c81d79d>\u001b[0m in \u001b[0;36mget_ad_details\u001b[0;34m(l)\u001b[0m\n\u001b[1;32m     42\u001b[0m     \u001b[0mcar_dict\u001b[0m \u001b[0;34m=\u001b[0m \u001b[0;34m{\u001b[0m\u001b[0;34m}\u001b[0m\u001b[0;34m\u001b[0m\u001b[0;34m\u001b[0m\u001b[0m\n\u001b[1;32m     43\u001b[0m \u001b[0;31m# l = \"https://www.contactcars.com/en/car/626997664f4dc4c0a1d6a69f-Chevrolet-Optra-1.5-A-T-H-L?status=Used\"\u001b[0m\u001b[0;34m\u001b[0m\u001b[0;34m\u001b[0m\u001b[0;34m\u001b[0m\u001b[0m\n\u001b[0;32m---> 44\u001b[0;31m     \u001b[0mchrome\u001b[0m\u001b[0;34m.\u001b[0m\u001b[0mget\u001b[0m\u001b[0;34m(\u001b[0m\u001b[0ml\u001b[0m\u001b[0;34m)\u001b[0m\u001b[0;34m\u001b[0m\u001b[0;34m\u001b[0m\u001b[0m\n\u001b[0m\u001b[1;32m     45\u001b[0m \u001b[0;34m\u001b[0m\u001b[0m\n\u001b[1;32m     46\u001b[0m \u001b[0;34m\u001b[0m\u001b[0m\n",
      "\u001b[0;32m~/opt/anaconda3/lib/python3.7/site-packages/selenium/webdriver/remote/webdriver.py\u001b[0m in \u001b[0;36mget\u001b[0;34m(self, url)\u001b[0m\n\u001b[1;32m    435\u001b[0m         \u001b[0mLoads\u001b[0m \u001b[0ma\u001b[0m \u001b[0mweb\u001b[0m \u001b[0mpage\u001b[0m \u001b[0;32min\u001b[0m \u001b[0mthe\u001b[0m \u001b[0mcurrent\u001b[0m \u001b[0mbrowser\u001b[0m \u001b[0msession\u001b[0m\u001b[0;34m.\u001b[0m\u001b[0;34m\u001b[0m\u001b[0;34m\u001b[0m\u001b[0m\n\u001b[1;32m    436\u001b[0m         \"\"\"\n\u001b[0;32m--> 437\u001b[0;31m         \u001b[0mself\u001b[0m\u001b[0;34m.\u001b[0m\u001b[0mexecute\u001b[0m\u001b[0;34m(\u001b[0m\u001b[0mCommand\u001b[0m\u001b[0;34m.\u001b[0m\u001b[0mGET\u001b[0m\u001b[0;34m,\u001b[0m \u001b[0;34m{\u001b[0m\u001b[0;34m'url'\u001b[0m\u001b[0;34m:\u001b[0m \u001b[0murl\u001b[0m\u001b[0;34m}\u001b[0m\u001b[0;34m)\u001b[0m\u001b[0;34m\u001b[0m\u001b[0;34m\u001b[0m\u001b[0m\n\u001b[0m\u001b[1;32m    438\u001b[0m \u001b[0;34m\u001b[0m\u001b[0m\n\u001b[1;32m    439\u001b[0m     \u001b[0;34m@\u001b[0m\u001b[0mproperty\u001b[0m\u001b[0;34m\u001b[0m\u001b[0;34m\u001b[0m\u001b[0m\n",
      "\u001b[0;32m~/opt/anaconda3/lib/python3.7/site-packages/selenium/webdriver/remote/webdriver.py\u001b[0m in \u001b[0;36mexecute\u001b[0;34m(self, driver_command, params)\u001b[0m\n\u001b[1;32m    421\u001b[0m \u001b[0;34m\u001b[0m\u001b[0m\n\u001b[1;32m    422\u001b[0m         \u001b[0mparams\u001b[0m \u001b[0;34m=\u001b[0m \u001b[0mself\u001b[0m\u001b[0;34m.\u001b[0m\u001b[0m_wrap_value\u001b[0m\u001b[0;34m(\u001b[0m\u001b[0mparams\u001b[0m\u001b[0;34m)\u001b[0m\u001b[0;34m\u001b[0m\u001b[0;34m\u001b[0m\u001b[0m\n\u001b[0;32m--> 423\u001b[0;31m         \u001b[0mresponse\u001b[0m \u001b[0;34m=\u001b[0m \u001b[0mself\u001b[0m\u001b[0;34m.\u001b[0m\u001b[0mcommand_executor\u001b[0m\u001b[0;34m.\u001b[0m\u001b[0mexecute\u001b[0m\u001b[0;34m(\u001b[0m\u001b[0mdriver_command\u001b[0m\u001b[0;34m,\u001b[0m \u001b[0mparams\u001b[0m\u001b[0;34m)\u001b[0m\u001b[0;34m\u001b[0m\u001b[0;34m\u001b[0m\u001b[0m\n\u001b[0m\u001b[1;32m    424\u001b[0m         \u001b[0;32mif\u001b[0m \u001b[0mresponse\u001b[0m\u001b[0;34m:\u001b[0m\u001b[0;34m\u001b[0m\u001b[0;34m\u001b[0m\u001b[0m\n\u001b[1;32m    425\u001b[0m             \u001b[0mself\u001b[0m\u001b[0;34m.\u001b[0m\u001b[0merror_handler\u001b[0m\u001b[0;34m.\u001b[0m\u001b[0mcheck_response\u001b[0m\u001b[0;34m(\u001b[0m\u001b[0mresponse\u001b[0m\u001b[0;34m)\u001b[0m\u001b[0;34m\u001b[0m\u001b[0;34m\u001b[0m\u001b[0m\n",
      "\u001b[0;32m~/opt/anaconda3/lib/python3.7/site-packages/selenium/webdriver/remote/remote_connection.py\u001b[0m in \u001b[0;36mexecute\u001b[0;34m(self, command, params)\u001b[0m\n\u001b[1;32m    331\u001b[0m         \u001b[0mdata\u001b[0m \u001b[0;34m=\u001b[0m \u001b[0mutils\u001b[0m\u001b[0;34m.\u001b[0m\u001b[0mdump_json\u001b[0m\u001b[0;34m(\u001b[0m\u001b[0mparams\u001b[0m\u001b[0;34m)\u001b[0m\u001b[0;34m\u001b[0m\u001b[0;34m\u001b[0m\u001b[0m\n\u001b[1;32m    332\u001b[0m         \u001b[0murl\u001b[0m \u001b[0;34m=\u001b[0m \u001b[0;34mf\"{self._url}{path}\"\u001b[0m\u001b[0;34m\u001b[0m\u001b[0;34m\u001b[0m\u001b[0m\n\u001b[0;32m--> 333\u001b[0;31m         \u001b[0;32mreturn\u001b[0m \u001b[0mself\u001b[0m\u001b[0;34m.\u001b[0m\u001b[0m_request\u001b[0m\u001b[0;34m(\u001b[0m\u001b[0mcommand_info\u001b[0m\u001b[0;34m[\u001b[0m\u001b[0;36m0\u001b[0m\u001b[0;34m]\u001b[0m\u001b[0;34m,\u001b[0m \u001b[0murl\u001b[0m\u001b[0;34m,\u001b[0m \u001b[0mbody\u001b[0m\u001b[0;34m=\u001b[0m\u001b[0mdata\u001b[0m\u001b[0;34m)\u001b[0m\u001b[0;34m\u001b[0m\u001b[0;34m\u001b[0m\u001b[0m\n\u001b[0m\u001b[1;32m    334\u001b[0m \u001b[0;34m\u001b[0m\u001b[0m\n\u001b[1;32m    335\u001b[0m     \u001b[0;32mdef\u001b[0m \u001b[0m_request\u001b[0m\u001b[0;34m(\u001b[0m\u001b[0mself\u001b[0m\u001b[0;34m,\u001b[0m \u001b[0mmethod\u001b[0m\u001b[0;34m,\u001b[0m \u001b[0murl\u001b[0m\u001b[0;34m,\u001b[0m \u001b[0mbody\u001b[0m\u001b[0;34m=\u001b[0m\u001b[0;32mNone\u001b[0m\u001b[0;34m)\u001b[0m\u001b[0;34m:\u001b[0m\u001b[0;34m\u001b[0m\u001b[0;34m\u001b[0m\u001b[0m\n",
      "\u001b[0;32m~/opt/anaconda3/lib/python3.7/site-packages/selenium/webdriver/remote/remote_connection.py\u001b[0m in \u001b[0;36m_request\u001b[0;34m(self, method, url, body)\u001b[0m\n\u001b[1;32m    353\u001b[0m \u001b[0;34m\u001b[0m\u001b[0m\n\u001b[1;32m    354\u001b[0m         \u001b[0;32mif\u001b[0m \u001b[0mself\u001b[0m\u001b[0;34m.\u001b[0m\u001b[0mkeep_alive\u001b[0m\u001b[0;34m:\u001b[0m\u001b[0;34m\u001b[0m\u001b[0;34m\u001b[0m\u001b[0m\n\u001b[0;32m--> 355\u001b[0;31m             \u001b[0mresp\u001b[0m \u001b[0;34m=\u001b[0m \u001b[0mself\u001b[0m\u001b[0;34m.\u001b[0m\u001b[0m_conn\u001b[0m\u001b[0;34m.\u001b[0m\u001b[0mrequest\u001b[0m\u001b[0;34m(\u001b[0m\u001b[0mmethod\u001b[0m\u001b[0;34m,\u001b[0m \u001b[0murl\u001b[0m\u001b[0;34m,\u001b[0m \u001b[0mbody\u001b[0m\u001b[0;34m=\u001b[0m\u001b[0mbody\u001b[0m\u001b[0;34m,\u001b[0m \u001b[0mheaders\u001b[0m\u001b[0;34m=\u001b[0m\u001b[0mheaders\u001b[0m\u001b[0;34m)\u001b[0m\u001b[0;34m\u001b[0m\u001b[0;34m\u001b[0m\u001b[0m\n\u001b[0m\u001b[1;32m    356\u001b[0m             \u001b[0mstatuscode\u001b[0m \u001b[0;34m=\u001b[0m \u001b[0mresp\u001b[0m\u001b[0;34m.\u001b[0m\u001b[0mstatus\u001b[0m\u001b[0;34m\u001b[0m\u001b[0;34m\u001b[0m\u001b[0m\n\u001b[1;32m    357\u001b[0m         \u001b[0;32melse\u001b[0m\u001b[0;34m:\u001b[0m\u001b[0;34m\u001b[0m\u001b[0;34m\u001b[0m\u001b[0m\n",
      "\u001b[0;32m~/opt/anaconda3/lib/python3.7/site-packages/urllib3/request.py\u001b[0m in \u001b[0;36mrequest\u001b[0;34m(self, method, url, fields, headers, **urlopen_kw)\u001b[0m\n\u001b[1;32m     77\u001b[0m         \u001b[0;32melse\u001b[0m\u001b[0;34m:\u001b[0m\u001b[0;34m\u001b[0m\u001b[0;34m\u001b[0m\u001b[0m\n\u001b[1;32m     78\u001b[0m             return self.request_encode_body(\n\u001b[0;32m---> 79\u001b[0;31m                 \u001b[0mmethod\u001b[0m\u001b[0;34m,\u001b[0m \u001b[0murl\u001b[0m\u001b[0;34m,\u001b[0m \u001b[0mfields\u001b[0m\u001b[0;34m=\u001b[0m\u001b[0mfields\u001b[0m\u001b[0;34m,\u001b[0m \u001b[0mheaders\u001b[0m\u001b[0;34m=\u001b[0m\u001b[0mheaders\u001b[0m\u001b[0;34m,\u001b[0m \u001b[0;34m**\u001b[0m\u001b[0murlopen_kw\u001b[0m\u001b[0;34m\u001b[0m\u001b[0;34m\u001b[0m\u001b[0m\n\u001b[0m\u001b[1;32m     80\u001b[0m             )\n\u001b[1;32m     81\u001b[0m \u001b[0;34m\u001b[0m\u001b[0m\n",
      "\u001b[0;32m~/opt/anaconda3/lib/python3.7/site-packages/urllib3/request.py\u001b[0m in \u001b[0;36mrequest_encode_body\u001b[0;34m(self, method, url, fields, headers, encode_multipart, multipart_boundary, **urlopen_kw)\u001b[0m\n\u001b[1;32m    168\u001b[0m         \u001b[0mextra_kw\u001b[0m\u001b[0;34m.\u001b[0m\u001b[0mupdate\u001b[0m\u001b[0;34m(\u001b[0m\u001b[0murlopen_kw\u001b[0m\u001b[0;34m)\u001b[0m\u001b[0;34m\u001b[0m\u001b[0;34m\u001b[0m\u001b[0m\n\u001b[1;32m    169\u001b[0m \u001b[0;34m\u001b[0m\u001b[0m\n\u001b[0;32m--> 170\u001b[0;31m         \u001b[0;32mreturn\u001b[0m \u001b[0mself\u001b[0m\u001b[0;34m.\u001b[0m\u001b[0murlopen\u001b[0m\u001b[0;34m(\u001b[0m\u001b[0mmethod\u001b[0m\u001b[0;34m,\u001b[0m \u001b[0murl\u001b[0m\u001b[0;34m,\u001b[0m \u001b[0;34m**\u001b[0m\u001b[0mextra_kw\u001b[0m\u001b[0;34m)\u001b[0m\u001b[0;34m\u001b[0m\u001b[0;34m\u001b[0m\u001b[0m\n\u001b[0m",
      "\u001b[0;32m~/opt/anaconda3/lib/python3.7/site-packages/urllib3/poolmanager.py\u001b[0m in \u001b[0;36murlopen\u001b[0;34m(self, method, url, redirect, **kw)\u001b[0m\n\u001b[1;32m    374\u001b[0m             \u001b[0mresponse\u001b[0m \u001b[0;34m=\u001b[0m \u001b[0mconn\u001b[0m\u001b[0;34m.\u001b[0m\u001b[0murlopen\u001b[0m\u001b[0;34m(\u001b[0m\u001b[0mmethod\u001b[0m\u001b[0;34m,\u001b[0m \u001b[0murl\u001b[0m\u001b[0;34m,\u001b[0m \u001b[0;34m**\u001b[0m\u001b[0mkw\u001b[0m\u001b[0;34m)\u001b[0m\u001b[0;34m\u001b[0m\u001b[0;34m\u001b[0m\u001b[0m\n\u001b[1;32m    375\u001b[0m         \u001b[0;32melse\u001b[0m\u001b[0;34m:\u001b[0m\u001b[0;34m\u001b[0m\u001b[0;34m\u001b[0m\u001b[0m\n\u001b[0;32m--> 376\u001b[0;31m             \u001b[0mresponse\u001b[0m \u001b[0;34m=\u001b[0m \u001b[0mconn\u001b[0m\u001b[0;34m.\u001b[0m\u001b[0murlopen\u001b[0m\u001b[0;34m(\u001b[0m\u001b[0mmethod\u001b[0m\u001b[0;34m,\u001b[0m \u001b[0mu\u001b[0m\u001b[0;34m.\u001b[0m\u001b[0mrequest_uri\u001b[0m\u001b[0;34m,\u001b[0m \u001b[0;34m**\u001b[0m\u001b[0mkw\u001b[0m\u001b[0;34m)\u001b[0m\u001b[0;34m\u001b[0m\u001b[0;34m\u001b[0m\u001b[0m\n\u001b[0m\u001b[1;32m    377\u001b[0m \u001b[0;34m\u001b[0m\u001b[0m\n\u001b[1;32m    378\u001b[0m         \u001b[0mredirect_location\u001b[0m \u001b[0;34m=\u001b[0m \u001b[0mredirect\u001b[0m \u001b[0;32mand\u001b[0m \u001b[0mresponse\u001b[0m\u001b[0;34m.\u001b[0m\u001b[0mget_redirect_location\u001b[0m\u001b[0;34m(\u001b[0m\u001b[0;34m)\u001b[0m\u001b[0;34m\u001b[0m\u001b[0;34m\u001b[0m\u001b[0m\n",
      "\u001b[0;32m~/opt/anaconda3/lib/python3.7/site-packages/urllib3/connectionpool.py\u001b[0m in \u001b[0;36murlopen\u001b[0;34m(self, method, url, body, headers, retries, redirect, assert_same_host, timeout, pool_timeout, release_conn, chunked, body_pos, **response_kw)\u001b[0m\n\u001b[1;32m    708\u001b[0m                 \u001b[0mbody\u001b[0m\u001b[0;34m=\u001b[0m\u001b[0mbody\u001b[0m\u001b[0;34m,\u001b[0m\u001b[0;34m\u001b[0m\u001b[0;34m\u001b[0m\u001b[0m\n\u001b[1;32m    709\u001b[0m                 \u001b[0mheaders\u001b[0m\u001b[0;34m=\u001b[0m\u001b[0mheaders\u001b[0m\u001b[0;34m,\u001b[0m\u001b[0;34m\u001b[0m\u001b[0;34m\u001b[0m\u001b[0m\n\u001b[0;32m--> 710\u001b[0;31m                 \u001b[0mchunked\u001b[0m\u001b[0;34m=\u001b[0m\u001b[0mchunked\u001b[0m\u001b[0;34m,\u001b[0m\u001b[0;34m\u001b[0m\u001b[0;34m\u001b[0m\u001b[0m\n\u001b[0m\u001b[1;32m    711\u001b[0m             )\n\u001b[1;32m    712\u001b[0m \u001b[0;34m\u001b[0m\u001b[0m\n",
      "\u001b[0;32m~/opt/anaconda3/lib/python3.7/site-packages/urllib3/connectionpool.py\u001b[0m in \u001b[0;36m_make_request\u001b[0;34m(self, conn, method, url, timeout, chunked, **httplib_request_kw)\u001b[0m\n\u001b[1;32m    447\u001b[0m                     \u001b[0;31m# Python 3 (including for exceptions like SystemExit).\u001b[0m\u001b[0;34m\u001b[0m\u001b[0;34m\u001b[0m\u001b[0;34m\u001b[0m\u001b[0m\n\u001b[1;32m    448\u001b[0m                     \u001b[0;31m# Otherwise it looks like a bug in the code.\u001b[0m\u001b[0;34m\u001b[0m\u001b[0;34m\u001b[0m\u001b[0;34m\u001b[0m\u001b[0m\n\u001b[0;32m--> 449\u001b[0;31m                     \u001b[0msix\u001b[0m\u001b[0;34m.\u001b[0m\u001b[0mraise_from\u001b[0m\u001b[0;34m(\u001b[0m\u001b[0me\u001b[0m\u001b[0;34m,\u001b[0m \u001b[0;32mNone\u001b[0m\u001b[0;34m)\u001b[0m\u001b[0;34m\u001b[0m\u001b[0;34m\u001b[0m\u001b[0m\n\u001b[0m\u001b[1;32m    450\u001b[0m         \u001b[0;32mexcept\u001b[0m \u001b[0;34m(\u001b[0m\u001b[0mSocketTimeout\u001b[0m\u001b[0;34m,\u001b[0m \u001b[0mBaseSSLError\u001b[0m\u001b[0;34m,\u001b[0m \u001b[0mSocketError\u001b[0m\u001b[0;34m)\u001b[0m \u001b[0;32mas\u001b[0m \u001b[0me\u001b[0m\u001b[0;34m:\u001b[0m\u001b[0;34m\u001b[0m\u001b[0;34m\u001b[0m\u001b[0m\n\u001b[1;32m    451\u001b[0m             \u001b[0mself\u001b[0m\u001b[0;34m.\u001b[0m\u001b[0m_raise_timeout\u001b[0m\u001b[0;34m(\u001b[0m\u001b[0merr\u001b[0m\u001b[0;34m=\u001b[0m\u001b[0me\u001b[0m\u001b[0;34m,\u001b[0m \u001b[0murl\u001b[0m\u001b[0;34m=\u001b[0m\u001b[0murl\u001b[0m\u001b[0;34m,\u001b[0m \u001b[0mtimeout_value\u001b[0m\u001b[0;34m=\u001b[0m\u001b[0mread_timeout\u001b[0m\u001b[0;34m)\u001b[0m\u001b[0;34m\u001b[0m\u001b[0;34m\u001b[0m\u001b[0m\n",
      "\u001b[0;32m~/opt/anaconda3/lib/python3.7/site-packages/urllib3/packages/six.py\u001b[0m in \u001b[0;36mraise_from\u001b[0;34m(value, from_value)\u001b[0m\n",
      "\u001b[0;32m~/opt/anaconda3/lib/python3.7/site-packages/urllib3/connectionpool.py\u001b[0m in \u001b[0;36m_make_request\u001b[0;34m(self, conn, method, url, timeout, chunked, **httplib_request_kw)\u001b[0m\n\u001b[1;32m    442\u001b[0m                 \u001b[0;31m# Python 3\u001b[0m\u001b[0;34m\u001b[0m\u001b[0;34m\u001b[0m\u001b[0;34m\u001b[0m\u001b[0m\n\u001b[1;32m    443\u001b[0m                 \u001b[0;32mtry\u001b[0m\u001b[0;34m:\u001b[0m\u001b[0;34m\u001b[0m\u001b[0;34m\u001b[0m\u001b[0m\n\u001b[0;32m--> 444\u001b[0;31m                     \u001b[0mhttplib_response\u001b[0m \u001b[0;34m=\u001b[0m \u001b[0mconn\u001b[0m\u001b[0;34m.\u001b[0m\u001b[0mgetresponse\u001b[0m\u001b[0;34m(\u001b[0m\u001b[0;34m)\u001b[0m\u001b[0;34m\u001b[0m\u001b[0;34m\u001b[0m\u001b[0m\n\u001b[0m\u001b[1;32m    445\u001b[0m                 \u001b[0;32mexcept\u001b[0m \u001b[0mBaseException\u001b[0m \u001b[0;32mas\u001b[0m \u001b[0me\u001b[0m\u001b[0;34m:\u001b[0m\u001b[0;34m\u001b[0m\u001b[0;34m\u001b[0m\u001b[0m\n\u001b[1;32m    446\u001b[0m                     \u001b[0;31m# Remove the TypeError from the exception chain in\u001b[0m\u001b[0;34m\u001b[0m\u001b[0;34m\u001b[0m\u001b[0;34m\u001b[0m\u001b[0m\n",
      "\u001b[0;32m~/opt/anaconda3/lib/python3.7/http/client.py\u001b[0m in \u001b[0;36mgetresponse\u001b[0;34m(self)\u001b[0m\n\u001b[1;32m   1334\u001b[0m         \u001b[0;32mtry\u001b[0m\u001b[0;34m:\u001b[0m\u001b[0;34m\u001b[0m\u001b[0;34m\u001b[0m\u001b[0m\n\u001b[1;32m   1335\u001b[0m             \u001b[0;32mtry\u001b[0m\u001b[0;34m:\u001b[0m\u001b[0;34m\u001b[0m\u001b[0;34m\u001b[0m\u001b[0m\n\u001b[0;32m-> 1336\u001b[0;31m                 \u001b[0mresponse\u001b[0m\u001b[0;34m.\u001b[0m\u001b[0mbegin\u001b[0m\u001b[0;34m(\u001b[0m\u001b[0;34m)\u001b[0m\u001b[0;34m\u001b[0m\u001b[0;34m\u001b[0m\u001b[0m\n\u001b[0m\u001b[1;32m   1337\u001b[0m             \u001b[0;32mexcept\u001b[0m \u001b[0mConnectionError\u001b[0m\u001b[0;34m:\u001b[0m\u001b[0;34m\u001b[0m\u001b[0;34m\u001b[0m\u001b[0m\n\u001b[1;32m   1338\u001b[0m                 \u001b[0mself\u001b[0m\u001b[0;34m.\u001b[0m\u001b[0mclose\u001b[0m\u001b[0;34m(\u001b[0m\u001b[0;34m)\u001b[0m\u001b[0;34m\u001b[0m\u001b[0;34m\u001b[0m\u001b[0m\n",
      "\u001b[0;32m~/opt/anaconda3/lib/python3.7/http/client.py\u001b[0m in \u001b[0;36mbegin\u001b[0;34m(self)\u001b[0m\n\u001b[1;32m    304\u001b[0m         \u001b[0;31m# read until we get a non-100 response\u001b[0m\u001b[0;34m\u001b[0m\u001b[0;34m\u001b[0m\u001b[0;34m\u001b[0m\u001b[0m\n\u001b[1;32m    305\u001b[0m         \u001b[0;32mwhile\u001b[0m \u001b[0;32mTrue\u001b[0m\u001b[0;34m:\u001b[0m\u001b[0;34m\u001b[0m\u001b[0;34m\u001b[0m\u001b[0m\n\u001b[0;32m--> 306\u001b[0;31m             \u001b[0mversion\u001b[0m\u001b[0;34m,\u001b[0m \u001b[0mstatus\u001b[0m\u001b[0;34m,\u001b[0m \u001b[0mreason\u001b[0m \u001b[0;34m=\u001b[0m \u001b[0mself\u001b[0m\u001b[0;34m.\u001b[0m\u001b[0m_read_status\u001b[0m\u001b[0;34m(\u001b[0m\u001b[0;34m)\u001b[0m\u001b[0;34m\u001b[0m\u001b[0;34m\u001b[0m\u001b[0m\n\u001b[0m\u001b[1;32m    307\u001b[0m             \u001b[0;32mif\u001b[0m \u001b[0mstatus\u001b[0m \u001b[0;34m!=\u001b[0m \u001b[0mCONTINUE\u001b[0m\u001b[0;34m:\u001b[0m\u001b[0;34m\u001b[0m\u001b[0;34m\u001b[0m\u001b[0m\n\u001b[1;32m    308\u001b[0m                 \u001b[0;32mbreak\u001b[0m\u001b[0;34m\u001b[0m\u001b[0;34m\u001b[0m\u001b[0m\n",
      "\u001b[0;32m~/opt/anaconda3/lib/python3.7/http/client.py\u001b[0m in \u001b[0;36m_read_status\u001b[0;34m(self)\u001b[0m\n\u001b[1;32m    265\u001b[0m \u001b[0;34m\u001b[0m\u001b[0m\n\u001b[1;32m    266\u001b[0m     \u001b[0;32mdef\u001b[0m \u001b[0m_read_status\u001b[0m\u001b[0;34m(\u001b[0m\u001b[0mself\u001b[0m\u001b[0;34m)\u001b[0m\u001b[0;34m:\u001b[0m\u001b[0;34m\u001b[0m\u001b[0;34m\u001b[0m\u001b[0m\n\u001b[0;32m--> 267\u001b[0;31m         \u001b[0mline\u001b[0m \u001b[0;34m=\u001b[0m \u001b[0mstr\u001b[0m\u001b[0;34m(\u001b[0m\u001b[0mself\u001b[0m\u001b[0;34m.\u001b[0m\u001b[0mfp\u001b[0m\u001b[0;34m.\u001b[0m\u001b[0mreadline\u001b[0m\u001b[0;34m(\u001b[0m\u001b[0m_MAXLINE\u001b[0m \u001b[0;34m+\u001b[0m \u001b[0;36m1\u001b[0m\u001b[0;34m)\u001b[0m\u001b[0;34m,\u001b[0m \u001b[0;34m\"iso-8859-1\"\u001b[0m\u001b[0;34m)\u001b[0m\u001b[0;34m\u001b[0m\u001b[0;34m\u001b[0m\u001b[0m\n\u001b[0m\u001b[1;32m    268\u001b[0m         \u001b[0;32mif\u001b[0m \u001b[0mlen\u001b[0m\u001b[0;34m(\u001b[0m\u001b[0mline\u001b[0m\u001b[0;34m)\u001b[0m \u001b[0;34m>\u001b[0m \u001b[0m_MAXLINE\u001b[0m\u001b[0;34m:\u001b[0m\u001b[0;34m\u001b[0m\u001b[0;34m\u001b[0m\u001b[0m\n\u001b[1;32m    269\u001b[0m             \u001b[0;32mraise\u001b[0m \u001b[0mLineTooLong\u001b[0m\u001b[0;34m(\u001b[0m\u001b[0;34m\"status line\"\u001b[0m\u001b[0;34m)\u001b[0m\u001b[0;34m\u001b[0m\u001b[0;34m\u001b[0m\u001b[0m\n",
      "\u001b[0;32m~/opt/anaconda3/lib/python3.7/socket.py\u001b[0m in \u001b[0;36mreadinto\u001b[0;34m(self, b)\u001b[0m\n\u001b[1;32m    587\u001b[0m         \u001b[0;32mwhile\u001b[0m \u001b[0;32mTrue\u001b[0m\u001b[0;34m:\u001b[0m\u001b[0;34m\u001b[0m\u001b[0;34m\u001b[0m\u001b[0m\n\u001b[1;32m    588\u001b[0m             \u001b[0;32mtry\u001b[0m\u001b[0;34m:\u001b[0m\u001b[0;34m\u001b[0m\u001b[0;34m\u001b[0m\u001b[0m\n\u001b[0;32m--> 589\u001b[0;31m                 \u001b[0;32mreturn\u001b[0m \u001b[0mself\u001b[0m\u001b[0;34m.\u001b[0m\u001b[0m_sock\u001b[0m\u001b[0;34m.\u001b[0m\u001b[0mrecv_into\u001b[0m\u001b[0;34m(\u001b[0m\u001b[0mb\u001b[0m\u001b[0;34m)\u001b[0m\u001b[0;34m\u001b[0m\u001b[0;34m\u001b[0m\u001b[0m\n\u001b[0m\u001b[1;32m    590\u001b[0m             \u001b[0;32mexcept\u001b[0m \u001b[0mtimeout\u001b[0m\u001b[0;34m:\u001b[0m\u001b[0;34m\u001b[0m\u001b[0;34m\u001b[0m\u001b[0m\n\u001b[1;32m    591\u001b[0m                 \u001b[0mself\u001b[0m\u001b[0;34m.\u001b[0m\u001b[0m_timeout_occurred\u001b[0m \u001b[0;34m=\u001b[0m \u001b[0;32mTrue\u001b[0m\u001b[0;34m\u001b[0m\u001b[0;34m\u001b[0m\u001b[0m\n",
      "\u001b[0;31mKeyboardInterrupt\u001b[0m: "
     ]
    }
   ],
   "source": [
    "df = pd.DataFrame()\n",
    "\n",
    "for i in range(1,150):\n",
    "\n",
    "    links_list =  get_links_list(get_page_link(i), chrome)\n",
    "\n",
    "    try:\n",
    "        \n",
    "        for link in links_list:\n",
    "            \n",
    "            try:\n",
    "                print(\"____________________\")\n",
    "                print(link)\n",
    "\n",
    "                car_dict = get_ad_details(link)\n",
    "\n",
    "                df = df.append(car_dict, ignore_index = True)\n",
    "            except Exception as e2:\n",
    "                print(\"inside exption\")\n",
    "                print(car_dict)\n",
    "                print(e2)\n",
    "                continue\n",
    "    \n",
    "    except Exception as e:\n",
    "        print(\"outer excption\")\n",
    "        print(e)\n",
    "        continue\n",
    "        \n",
    "    \n",
    "    print(df.tail(1))\n",
    "    \n",
    "print(\"End Of Data Scrape\")"
   ]
  },
  {
   "cell_type": "code",
   "execution_count": null,
   "metadata": {},
   "outputs": [],
   "source": [
    "df"
   ]
  },
  {
   "cell_type": "code",
   "execution_count": null,
   "metadata": {},
   "outputs": [],
   "source": [
    "df = df[[\"Ad_ID\",\"date\",\"Body Type\",\"Condition\", \"Engine Capacity (CC)\",\"Kilometers\",\"Model\", \"Transmission Type\",\"Year\",\"brand\",\"price\"]]\n",
    "df[100:250]"
   ]
  },
  {
   "cell_type": "code",
   "execution_count": null,
   "metadata": {},
   "outputs": [],
   "source": [
    "df.to_csv(\"contact_cars2.csv\")\n",
    "df.shape"
   ]
  },
  {
   "cell_type": "code",
   "execution_count": null,
   "metadata": {},
   "outputs": [],
   "source": [
    "chrome.get(\"https://www.contactcars.com/en/car/6283a64006683e8b604f2af1-Renault-Logan-Basic?status=Used\")"
   ]
  },
  {
   "cell_type": "code",
   "execution_count": null,
   "metadata": {},
   "outputs": [],
   "source": [
    "car_details = chrome.find_elements_by_class_name(\"car-details__sumary__item__details\")\n"
   ]
  },
  {
   "cell_type": "code",
   "execution_count": null,
   "metadata": {},
   "outputs": [],
   "source": [
    "car_details[2].text"
   ]
  },
  {
   "cell_type": "code",
   "execution_count": null,
   "metadata": {},
   "outputs": [],
   "source": [
    "df[\"date\"].unique()"
   ]
  },
  {
   "cell_type": "code",
   "execution_count": null,
   "metadata": {},
   "outputs": [],
   "source": [
    "df = df.drop(df[df[\"date\"].str.contains(pat= \"Zayed\", na=False, regex= True)].index)"
   ]
  },
  {
   "cell_type": "code",
   "execution_count": 12,
   "metadata": {},
   "outputs": [
    {
     "data": {
      "text/plain": [
       "<bound method ChromiumDriver.quit of <selenium.webdriver.chrome.webdriver.WebDriver (session=\"ef8a4ce8f2f1f97b396d6dd839e80f71\")>>"
      ]
     },
     "execution_count": 12,
     "metadata": {},
     "output_type": "execute_result"
    }
   ],
   "source": [
    "chrome.quit"
   ]
  },
  {
   "cell_type": "code",
   "execution_count": null,
   "metadata": {},
   "outputs": [],
   "source": []
  }
 ],
 "metadata": {
  "kernelspec": {
   "display_name": "Python 3",
   "language": "python",
   "name": "python3"
  },
  "language_info": {
   "codemirror_mode": {
    "name": "ipython",
    "version": 3
   },
   "file_extension": ".py",
   "mimetype": "text/x-python",
   "name": "python",
   "nbconvert_exporter": "python",
   "pygments_lexer": "ipython3",
   "version": "3.7.4"
  }
 },
 "nbformat": 4,
 "nbformat_minor": 2
}
